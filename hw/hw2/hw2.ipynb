{
 "cells": [
  {
   "cell_type": "raw",
   "metadata": {},
   "source": [
    "---\n",
    "title: Biostat 216 Homework 2\n",
    "subtitle: 'Due Oct 11 @ 11:59pm'\n",
    "format:\n",
    "  html:\n",
    "    theme: cosmo\n",
    "    embed-resources: true\n",
    "    number-sections: true\n",
    "    toc: true\n",
    "    toc-depth: 4\n",
    "    toc-location: left\n",
    "    code-fold: false\n",
    "---"
   ]
  },
  {
   "cell_type": "markdown",
   "metadata": {},
   "source": [
    "Submit a PDF (scanned/photographed from handwritten solutions, or converted from RMarkdown or Jupyter Notebook or Quarto) to Gradescope in BruinLearn."
   ]
  },
  {
   "cell_type": "markdown",
   "metadata": {},
   "source": [
    "## Q1. Sub-multiplicity of Frobenius norm\n",
    "\n",
    "Show the matrix norm property \n",
    "$$\n",
    "\\|\\mathbf{A} \\mathbf{B}\\|_{\\text{F}} \\le \\|\\mathbf{A}\\|_{\\text{F}} \\|\\mathbf{B}\\|_{\\text{F}}\n",
    "$$ \n",
    "for the Frobenius norm. Hint: Cauchy-Schwartz inequality.\n",
    "\n",
    "BV exercise 6.14 is a special case of this result."
   ]
  },
  {
   "cell_type": "markdown",
   "metadata": {},
   "source": [
    "## Q2. Induced matrix norm\n",
    "\n",
    "For any vector norm $\\|\\mathbf{x}\\|$ on $\\mathbb{R}^m$ and $\\mathbb{R}^n$, there is an induced matrix norm $\\|\\mathbf{A}\\|$ on $m \\times n$ matrices defined by\n",
    "$$\n",
    "\\|\\mathbf{A}\\| = \\sup_{\\mathbf{x} \\ne \\mathbf{0}} \\frac{\\|\\mathbf{A} \\mathbf{x}\\|}{\\|\\mathbf{x}\\|} = \\sup_{\\|\\mathbf{x}\\|=1} \\|\\mathbf{A} \\mathbf{x}\\|.\n",
    "$$\n",
    "\n",
    "1. Show the second equality in the above equation.\n",
    "\n",
    "2. Show the four properties (positive definiteness, homogeneity, triangle inequality, sub-multiplicity) for the induced matrix norm.\n",
    "\n",
    "3. Show that the Frobenius norm is different from the induced matrix-2 norm."
   ]
  },
  {
   "cell_type": "markdown",
   "metadata": {},
   "source": [
    "## BV exercises\n",
    "\n",
    "5.1, 5.2, 5.4, 5.6, 5.8, 5.9, 6.3, 6.11, 6.17, 6.21, 6.22"
   ]
  }
 ],
 "metadata": {
  "@webio": {
   "lastCommId": null,
   "lastKernelId": null
  },
  "hide_input": false,
  "jupytext": {
   "formats": "ipynb,qmd"
  },
  "kernelspec": {
   "display_name": "Julia 1.10.5",
   "language": "julia",
   "name": "julia-1.10"
  },
  "language_info": {
   "file_extension": ".jl",
   "mimetype": "application/julia",
   "name": "julia",
   "version": "1.10.5"
  },
  "toc": {
   "colors": {
    "hover_highlight": "#DAA520",
    "running_highlight": "#FF0000",
    "selected_highlight": "#FFD700"
   },
   "moveMenuLeft": true,
   "nav_menu": {
    "height": "87px",
    "width": "252px"
   },
   "navigate_menu": true,
   "number_sections": true,
   "sideBar": true,
   "skip_h1_title": true,
   "threshold": 4,
   "toc_cell": false,
   "toc_section_display": "block",
   "toc_window_display": false,
   "widenNotebook": false
  }
 },
 "nbformat": 4,
 "nbformat_minor": 4
}
