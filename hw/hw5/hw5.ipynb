{
 "cells": [
  {
   "cell_type": "raw",
   "metadata": {},
   "source": [
    "---\n",
    "title: Biostat 216 Homework 5\n",
    "subtitle: 'Due Nov 15 @ 11:59pm'\n",
    "format:\n",
    "  html:\n",
    "    theme: cosmo\n",
    "    embed-resources: true\n",
    "    number-sections: false\n",
    "    toc: true\n",
    "    toc-depth: 4\n",
    "    toc-location: left\n",
    "    code-fold: false\n",
    "---"
   ]
  },
  {
   "cell_type": "markdown",
   "metadata": {},
   "source": [
    "Submit a PDF (scanned/photographed from handwritten solutions, or converted from RMarkdown or Jupyter Notebook or Quarto) to Gradescope in BruinLearn. "
   ]
  },
  {
   "cell_type": "markdown",
   "metadata": {},
   "source": [
    "## Q1\n",
    "\n",
    "Let $\\mathbf{A} \\in \\mathbb{R}^{m \\times n}$. Show the following properties of generalized inverses.\n",
    "\n",
    "1. For any generalized inverse $\\mathbf{A}^-$, $\\text{rank}(\\mathbf{A}^-) \\ge \\text{rank}(\\mathbf{A})$.\n",
    "\n",
    "2. $\\text{rank}(\\mathbf{A}^+) = \\text{rank}(\\mathbf{A})$.\n",
    "\n",
    "3. $(\\mathbf{A}^-)'$ is a generalized inverse of $\\mathbf{A}'$.\n",
    "\n",
    "4. $(\\mathbf{A}^+)' = (\\mathbf{A}')^+$."
   ]
  },
  {
   "cell_type": "markdown",
   "metadata": {},
   "source": [
    "## Q2 Householder algorithm for QR factorization\n",
    "\n",
    "Let $\\mathbf{v} \\in \\mathbb{R}^n$. Define the **Householder reflection matrix**\n",
    "$$\n",
    "\\mathbf{H} = \\mathbf{I} - 2 \\frac{\\mathbf{v} \\mathbf{v}'}{\\|\\mathbf{v}\\|^2} = \\mathbf{I} - 2 \\mathbf{u} \\mathbf{u}',\n",
    "$$\n",
    "where $\\mathbf{u}$ is the unit vector $\\mathbf{v} / \\|\\mathbf{v}\\|$.\n",
    "\n",
    "1. Show that $\\mathbf{H}$ is symmetric and orthogonal.\n",
    "\n",
    "2. Let $\\mathbf{a}, \\mathbf{b} \\in \\mathbb{R}^n$ such that $\\|\\mathbf{a}\\| = \\|\\mathbf{b}\\|$. Find a Householder matrix such that $\\mathbf{H} \\mathbf{a} = \\mathbf{b}$.\n",
    "\n",
    "3. Let $\\mathbf{a} \\in \\mathbb{R}^n$ be a non-zero vector. Find a Householder matrix such that\n",
    "$$\n",
    "\\mathbf{H} \\mathbf{a} = \\begin{pmatrix} \\|\\mathbf{a}\\| \\\\ \\mathbf{0}_{n-1} \\end{pmatrix}.\n",
    "$$\n",
    "\n",
    "4. Let $\\mathbf{a} \\in \\mathbb{R}^n$. Find a Householder matrix such that\n",
    "$$\n",
    "\\mathbf{H} \\mathbf{a} = \\begin{pmatrix} a_1 \\\\ \\|\\mathbf{a}_{2:n}\\| \\\\ \\mathbf{0}_{n-2} \\end{pmatrix}.\n",
    "$$\n",
    "\n",
    "5. Let $\\mathbf{A} \\in \\mathbb{R}^{n \\times p}$. Describe how to find a sequence of Householder matrices $\\mathbf{H}_1, \\ldots, \\mathbf{H}_{p}$ such that\n",
    "$$\n",
    "\\mathbf{H}_{p} \\mathbf{H}_{p-1} \\cdots \\mathbf{H}_1 \\mathbf{A} = \\mathbf{R},\n",
    "$$\n",
    "where $\\mathbf{R} \\in \\mathbb{R}^{n \\times p}$ is an upper triangular matrix.  \n",
    "\n",
    "6. Describe how this generates a full QR decomposition of matrix $\\mathbf{A} = \\mathbf{Q} \\mathbf{R}$, where $\\mathbf{Q} \\in \\mathbb{R}^{n \\times n}$ is an orthogonal matrix and $\\mathbf{R}$ is upper triangular."
   ]
  },
  {
   "cell_type": "markdown",
   "metadata": {},
   "source": [
    "## Q3\n",
    "\n",
    "1. For any $\\mathbf{X} \\in \\mathbb{R}^{n \\times p}$ and $\\mathbf{y} \\in \\mathbb{R}^n$, show that the normal equation \n",
    "$$\n",
    "\\mathbf{X}' \\mathbf{X} \\boldsymbol{\\beta} = \\mathbf{X}' \\mathbf{y}\n",
    "$$\n",
    "always has at least one solution.\n",
    "\n",
    "2. Show that $(\\mathbf{A}' \\mathbf{A})^- \\mathbf{A}'$ is a generalized inverse of $\\mathbf{A}$.\n",
    "\n",
    "3. $\\mathbf{P}_{\\mathbf{A}} = \\mathbf{A} (\\mathbf{A}' \\mathbf{A})^- \\mathbf{A}'$ is the orthogonal projector onto $\\mathcal{C}(\\mathbf{A})$."
   ]
  },
  {
   "cell_type": "markdown",
   "metadata": {},
   "source": [
    "## Q4 Missile tracking\n",
    "\n",
    "A missile is fired from enemy territory, and its position in flight is observed by radar tracking devices at the following positions.\n",
    "\n",
    "| $x$=Position down range (1000 miles) | 0 |  0.25 |  0.5  |  0.75 |   1   |\n",
    "|:------------------------------------:|:-:|:-----:|:-----:|:-----:|:-----:|\n",
    "|        $y$=Height (1000 miles)       | 0 | 0.008 | 0.015 | 0.019 | 0.020 |\n",
    "\n",
    "Suppose that intelligence sources indicate that enemy missiles are programmed to follow a parabolic flight path: $y = f(x) = \\alpha_0 + \\alpha_1 x + \\alpha_2 x^2$. Where is the missile expected to land? Hint: You can find the solution using computer program. For example, in Julia, least squares solution is obtained by command `A \\ b`.\n",
    "\n",
    "![](missile.png)"
   ]
  },
  {
   "cell_type": "markdown",
   "metadata": {},
   "source": [
    "## BV exercises\n",
    "\n",
    "12.2, 12.4, 12.8"
   ]
  }
 ],
 "metadata": {
  "@webio": {
   "lastCommId": null,
   "lastKernelId": null
  },
  "hide_input": false,
  "jupytext": {
   "formats": "ipynb,qmd"
  },
  "kernelspec": {
   "display_name": "Julia 1.10.5",
   "language": "julia",
   "name": "julia-1.10"
  },
  "language_info": {
   "file_extension": ".jl",
   "mimetype": "application/julia",
   "name": "julia",
   "version": "1.10.5"
  },
  "toc": {
   "colors": {
    "hover_highlight": "#DAA520",
    "running_highlight": "#FF0000",
    "selected_highlight": "#FFD700"
   },
   "moveMenuLeft": true,
   "nav_menu": {
    "height": "87px",
    "width": "252px"
   },
   "navigate_menu": true,
   "number_sections": true,
   "sideBar": true,
   "skip_h1_title": true,
   "threshold": 4,
   "toc_cell": false,
   "toc_section_display": "block",
   "toc_window_display": false,
   "widenNotebook": false
  }
 },
 "nbformat": 4,
 "nbformat_minor": 4
}
